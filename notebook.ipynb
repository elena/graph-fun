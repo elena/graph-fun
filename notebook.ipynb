{
 "cells": [
  {
   "cell_type": "markdown",
   "metadata": {},
   "source": [
    "Requirements:\n",
    "\n",
    "```\n",
    "py2neo==2020.0.0\n",
    "```"
   ]
  },
  {
   "cell_type": "code",
   "execution_count": null,
   "metadata": {},
   "outputs": [],
   "source": [
    "import os\n",
    "import py2neo\n",
    "py2neo.__version__"
   ]
  },
  {
   "cell_type": "code",
   "execution_count": null,
   "metadata": {},
   "outputs": [],
   "source": [
    "graph = py2neo.Graph(\n",
    "    \"bolt://localhost:7687\", \n",
    "    password=os.getenv(\"PASSWORD\")\n",
    ")"
   ]
  },
  {
   "cell_type": "markdown",
   "metadata": {},
   "source": [
    "### Did the connection work?"
   ]
  },
  {
   "cell_type": "code",
   "execution_count": null,
   "metadata": {},
   "outputs": [],
   "source": [
    "graph.run(\"MATCH (n) RETURN n\").data()"
   ]
  },
  {
   "cell_type": "markdown",
   "metadata": {},
   "source": [
    "### Running a query:"
   ]
  },
  {
   "cell_type": "code",
   "execution_count": null,
   "metadata": {},
   "outputs": [],
   "source": [
    "query = \"\"\"\n",
    "  MATCH \n",
    "    (people:Person)\n",
    "    -[work:WORKS_AT]-\n",
    "    (dept:Department) \n",
    "    \n",
    "  RETURN people.name, work, dept.name\n",
    "\"\"\"\n",
    "graph.run(query)"
   ]
  },
  {
   "cell_type": "code",
   "execution_count": null,
   "metadata": {},
   "outputs": [],
   "source": [
    "data = graph.run(query)\n",
    "data.to_table()"
   ]
  },
  {
   "cell_type": "markdown",
   "metadata": {},
   "source": [
    "### Using built-in `match()` function:"
   ]
  },
  {
   "cell_type": "code",
   "execution_count": null,
   "metadata": {},
   "outputs": [],
   "source": [
    "graph.nodes.match(\"Person\").all()"
   ]
  },
  {
   "cell_type": "code",
   "execution_count": null,
   "metadata": {},
   "outputs": [],
   "source": [
    "graph.nodes.match(name=\"Alice\").first()"
   ]
  },
  {
   "cell_type": "code",
   "execution_count": null,
   "metadata": {},
   "outputs": [],
   "source": [
    "graph.nodes.match(\"AllRoundLegend\").first()"
   ]
  },
  {
   "cell_type": "code",
   "execution_count": null,
   "metadata": {},
   "outputs": [],
   "source": [
    "employees = graph.match(r_type=\"WORKS_AT\").all()\n",
    "for employee in employees:\n",
    "    print(employee)"
   ]
  },
  {
   "cell_type": "code",
   "execution_count": null,
   "metadata": {},
   "outputs": [],
   "source": [
    "query = \"\"\"\n",
    "MATCH \n",
    "  (dept:Department {name: \"IT Department\"})\n",
    "   <-[:WORKS_AT]-(people:Person)-[:LIKES]->\n",
    "  (framework:Framework)\n",
    "   -[:LANGUAGE]->\n",
    "  (python:Language {name: \"Python\"})\n",
    "  \n",
    "RETURN framework.name, people.name\n",
    "ORDER BY framework.name\n",
    "\"\"\"\n",
    "employees = graph.run(query).data()\n",
    "for employee in employees:\n",
    "    print(employee)\n"
   ]
  },
  {
   "cell_type": "markdown",
   "metadata": {},
   "source": [
    "### Recommendations Statement"
   ]
  },
  {
   "cell_type": "code",
   "execution_count": null,
   "metadata": {},
   "outputs": [],
   "source": [
    "statement_recommend = \"\"\"\n",
    "MATCH (subject:Person)\n",
    "WHERE subject.name=$person_name      \n",
    "      \n",
    "MATCH\n",
    "     (dept:Department {name: \"IT Department\"})\n",
    "     -[:WORKS_AT]-\n",
    "     (people:Person)\n",
    "     -[:LIKES]-\n",
    "     (likeable_framework:Framework)\n",
    "     -[:LANGUAGE]-\n",
    "     (:Language {name: \"Python\"})\n",
    "     \n",
    "WHERE NOT (subject)-[:LIKES]->(likeable_framework)\n",
    "\n",
    "RETURN DISTINCT likeable_framework.name\n",
    "\"\"\"\n",
    "graph.run(statement_recommend, person_name=\"Cris\")"
   ]
  }
 ],
 "metadata": {
  "kernelspec": {
   "display_name": "Python 3",
   "language": "python",
   "name": "python3"
  },
  "language_info": {
   "codemirror_mode": {
    "name": "ipython",
    "version": 3
   },
   "file_extension": ".py",
   "mimetype": "text/x-python",
   "name": "python",
   "nbconvert_exporter": "python",
   "pygments_lexer": "ipython3",
   "version": "3.8.2"
  }
 },
 "nbformat": 4,
 "nbformat_minor": 4
}
